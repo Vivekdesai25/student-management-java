{
  "cells": [
    {
      "cell_type": "markdown",
      "metadata": {
        "id": "view-in-github",
        "colab_type": "text"
      },
      "source": [
        "<a href=\"https://colab.research.google.com/github/Vivekdesai25/student-management-java/blob/main/DecisionTreeClassifier.ipynb\" target=\"_parent\"><img src=\"https://colab.research.google.com/assets/colab-badge.svg\" alt=\"Open In Colab\"/></a>"
      ]
    },
    {
      "cell_type": "code",
      "source": [
        "import pandas as pd\n",
        "\n",
        "\n",
        "data =pd.read_csv(\"/content/iris_naivebayes (2).csv\")\n",
        "print(data.head())\n",
        "\n",
        "print(data.tail())\n",
        "\n",
        "x=data.drop('target',axis=1)\n",
        "y=data['target']\n",
        "\n",
        "from sklearn.model_selection import train_test_split\n",
        "x_train,x_test,y_train,y_test=train_test_split(x,y,train_size=0.8,test_size=0.2,random_state=50)\n",
        "print(\"data splitted successfully\")\n",
        "\n",
        "from sklearn.naive_bayes import GaussianNB\n",
        "naive_bayse_model=GaussianNB()\n",
        "naive_bayse_model.fit(x_train,y_train)\n",
        "\n",
        "print(\"model trained successfully\")\n",
        "\n",
        "\n",
        "train_accuracy=naive_bayse_model.score(x_train,y_train)\n",
        "test_accuracy=naive_bayse_model.score(x_test,y_test)\n",
        "\n",
        "\n",
        "print(\"The accuracy of training is\",train_accuracy)\n",
        "print(\"The accuracy of testing is\",test_accuracy)\n",
        "\n",
        "y_predict=naive_bayse_model.predict(x_test)\n",
        "\n",
        "correct_predictions=(y_predict ==y_test)\n",
        "wrong_predictions=(y_predict!=y_test)\n",
        "\n",
        "print(\"correct prediction:\",x_test[correct_predictions])\n",
        "\n",
        "print(\"wrong prediction:\",x_test[wrong_predictions])"
      ],
      "metadata": {
        "colab": {
          "base_uri": "https://localhost:8080/"
        },
        "id": "zEKgMs9uiCIA",
        "outputId": "ed71d799-f02c-4bb5-b255-9de312641a4a"
      },
      "execution_count": 1,
      "outputs": [
        {
          "output_type": "stream",
          "name": "stdout",
          "text": [
            "   sepal_length  sepal_width  petal_length  petal_width       target\n",
            "0           5.1          3.5           1.4          0.2  Iris-setosa\n",
            "1           4.9          3.0           1.4          0.2  Iris-setosa\n",
            "2           4.7          3.2           1.3          0.2  Iris-setosa\n",
            "3           4.6          3.1           1.5          0.2  Iris-setosa\n",
            "4           5.0          3.6           1.4          0.2  Iris-setosa\n",
            "     sepal_length  sepal_width  petal_length  petal_width          target\n",
            "245           4.9          2.5           4.5          1.7  Iris-virginica\n",
            "246           7.3          2.9           6.3          1.8  Iris-virginica\n",
            "247           6.7          2.5           5.8          1.8  Iris-virginica\n",
            "248           7.2          3.6           6.1          2.5  Iris-virginica\n",
            "249           6.5          3.2           5.1          2.0  Iris-virginica\n",
            "data splitted successfully\n",
            "model trained successfully\n",
            "The accuracy of training is 0.875\n",
            "The accuracy of testing is 0.86\n",
            "correct prediction:      sepal_length  sepal_width  petal_length  petal_width\n",
            "150           5.5          2.5           4.0          1.3\n",
            "16            5.4          3.9           1.3          0.4\n",
            "107           7.3          2.9           6.3          1.8\n",
            "20            5.4          3.4           1.7          0.2\n",
            "88            5.6          3.0           4.1          1.3\n",
            "168           7.3          2.9           6.3          1.8\n",
            "120           6.9          3.2           5.7          2.3\n",
            "39            5.1          3.4           1.5          0.2\n",
            "38            4.4          3.0           1.3          0.2\n",
            "82            5.8          2.7           3.9          1.2\n",
            "118           7.7          2.6           6.9          2.3\n",
            "96            5.7          2.9           4.2          1.3\n",
            "195           5.9          3.0           5.1          1.8\n",
            "246           7.3          2.9           6.3          1.8\n",
            "231           5.8          2.6           4.0          1.2\n",
            "249           6.5          3.2           5.1          2.0\n",
            "208           5.8          2.7           5.1          1.9\n",
            "205           5.1          2.5           3.0          1.1\n",
            "135           7.7          3.0           6.1          2.3\n",
            "24            4.8          3.4           1.9          0.2\n",
            "34            4.9          3.1           1.5          0.1\n",
            "121           5.6          2.8           4.9          2.0\n",
            "15            5.7          4.4           1.5          0.4\n",
            "1             4.9          3.0           1.4          0.2\n",
            "18            5.7          3.8           1.7          0.3\n",
            "97            6.2          2.9           4.3          1.3\n",
            "181           6.9          3.2           5.7          2.3\n",
            "112           6.8          3.0           5.5          2.1\n",
            "142           5.8          2.7           5.1          1.9\n",
            "74            6.4          2.9           4.3          1.3\n",
            "81            5.5          2.4           3.7          1.0\n",
            "23            5.1          3.3           1.7          0.5\n",
            "98            5.1          2.5           3.0          1.1\n",
            "172           6.4          2.7           5.3          1.9\n",
            "25            5.0          3.0           1.6          0.2\n",
            "136           6.3          3.4           5.6          2.4\n",
            "99            5.7          2.8           4.1          1.3\n",
            "76            6.8          2.8           4.8          1.4\n",
            "40            5.0          3.5           1.3          0.3\n",
            "72            6.3          2.5           4.9          1.5\n",
            "153           5.8          2.6           4.0          1.2\n",
            "165           6.5          3.0           5.8          2.2\n",
            "187           6.9          3.1           5.1          2.3\n",
            "wrong prediction:      sepal_length  sepal_width  petal_length  petal_width\n",
            "77            6.7          3.0           5.0          1.7\n",
            "244           7.6          3.0           6.6          2.1\n",
            "202           5.7          3.0           4.2          1.2\n",
            "138           6.0          3.0           4.8          1.8\n",
            "201           5.6          2.7           4.2          1.3\n",
            "221           6.8          3.2           5.9          2.3\n",
            "197           5.5          2.6           4.4          1.2\n"
          ]
        }
      ]
    }
  ],
  "metadata": {
    "colab": {
      "provenance": [],
      "include_colab_link": true
    },
    "kernelspec": {
      "display_name": "Python 3",
      "name": "python3"
    },
    "language_info": {
      "name": "python"
    }
  },
  "nbformat": 4,
  "nbformat_minor": 0
}
